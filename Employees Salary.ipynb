{
 "cells": [
  {
   "cell_type": "markdown",
   "id": "eda8fcec",
   "metadata": {},
   "source": [
    "### Statistical Analysis of City Employees Salaries (Los Angeles and San Francisco)"
   ]
  },
  {
   "cell_type": "code",
   "execution_count": 2,
   "id": "1c39a3ee",
   "metadata": {},
   "outputs": [],
   "source": [
    "import numpy as np\n",
    "import pandas as pd\n",
    "import opendatasets as od\n",
    "import matplotlib.pyplot as plt"
   ]
  },
  {
   "cell_type": "markdown",
   "id": "df08bcac",
   "metadata": {},
   "source": [
    "Data Sets used in the project are from the website: [Transparent California](https://transparentcalifornia.com/)"
   ]
  },
  {
   "cell_type": "code",
   "execution_count": 18,
   "id": "d1577091",
   "metadata": {},
   "outputs": [
    {
     "name": "stderr",
     "output_type": "stream",
     "text": [
      "C:\\ProgramData\\Anaconda3\\lib\\site-packages\\pandas\\core\\reshape\\concat.py:294: DtypeWarning: Columns (5) have mixed types.Specify dtype option on import or set low_memory=False.\n",
      "  op = _Concatenator(\n"
     ]
    }
   ],
   "source": [
    "# Los Angeles City's Employees data\n",
    "los_sal = pd.concat(map(pd.read_csv, ['salaries/los-angeles-2018.csv', 'salaries/los-angeles-2019.csv', 'salaries/los-angeles-2020.csv',\n",
    "                                    'salaries/los-angeles-2021.csv']), ignore_index = True)"
   ]
  },
  {
   "cell_type": "code",
   "execution_count": 19,
   "id": "8cd3bef8",
   "metadata": {},
   "outputs": [],
   "source": [
    "# Data Transformation\n",
    "los_sal['Job Title'] = los_sal['Job Title'].str.replace('Police Officer Ii','Police Officer II')\n",
    "los_sal['Job Title'] = los_sal['Job Title'].str.replace('Police Officer IIi','Police Officer III')\n",
    "los_sal['Job Title'] = los_sal['Job Title'].str.replace('Firefighter Iii','Firefighter III')\n",
    "los_sal['Job Title'] = los_sal['Job Title'].str.replace('Special Program Assistant Ii','Special Program Assistant II')\n",
    "los_sal['Job Title'] = los_sal['Job Title'].apply(str.capitalize)"
   ]
  },
  {
   "cell_type": "code",
   "execution_count": 20,
   "id": "8cff46b4",
   "metadata": {},
   "outputs": [],
   "source": [
    "# Number employees employed by Job Title (year:2018,2019,2020,2021)\n",
    "los_2018 = los_sal[los_sal['Year'] == 2018]['Job Title'].value_counts().rename_axis('Job Title').reset_index(name='counts')\n",
    "los_2019 = los_sal[los_sal['Year'] == 2019]['Job Title'].value_counts().rename_axis('Job Title').reset_index(name='counts')\n",
    "los_2020 = los_sal[los_sal['Year'] == 2020]['Job Title'].value_counts().rename_axis('Job Title').reset_index(name='counts')\n",
    "los_2021 = los_sal[los_sal['Year'] == 2021]['Job Title'].value_counts().rename_axis('Job Title').reset_index(name='counts')"
   ]
  },
  {
   "cell_type": "code",
   "execution_count": 21,
   "id": "49ac0fd5",
   "metadata": {},
   "outputs": [
    {
     "data": {
      "text/html": [
       "<div>\n",
       "<style scoped>\n",
       "    .dataframe tbody tr th:only-of-type {\n",
       "        vertical-align: middle;\n",
       "    }\n",
       "\n",
       "    .dataframe tbody tr th {\n",
       "        vertical-align: top;\n",
       "    }\n",
       "\n",
       "    .dataframe thead th {\n",
       "        text-align: right;\n",
       "    }\n",
       "</style>\n",
       "<table border=\"1\" class=\"dataframe\">\n",
       "  <thead>\n",
       "    <tr style=\"text-align: right;\">\n",
       "      <th></th>\n",
       "      <th>Job Title</th>\n",
       "      <th>counts</th>\n",
       "    </tr>\n",
       "  </thead>\n",
       "  <tbody>\n",
       "    <tr>\n",
       "      <th>0</th>\n",
       "      <td>Police officer ii</td>\n",
       "      <td>4040</td>\n",
       "    </tr>\n",
       "    <tr>\n",
       "      <th>1</th>\n",
       "      <td>Recreation assistant</td>\n",
       "      <td>2539</td>\n",
       "    </tr>\n",
       "    <tr>\n",
       "      <th>2</th>\n",
       "      <td>Police officer iii</td>\n",
       "      <td>2318</td>\n",
       "    </tr>\n",
       "    <tr>\n",
       "      <th>3</th>\n",
       "      <td>Firefighter iii</td>\n",
       "      <td>1656</td>\n",
       "    </tr>\n",
       "    <tr>\n",
       "      <th>4</th>\n",
       "      <td>Administrative clerk</td>\n",
       "      <td>1608</td>\n",
       "    </tr>\n",
       "  </tbody>\n",
       "</table>\n",
       "</div>"
      ],
      "text/plain": [
       "              Job Title  counts\n",
       "0     Police officer ii    4040\n",
       "1  Recreation assistant    2539\n",
       "2    Police officer iii    2318\n",
       "3       Firefighter iii    1656\n",
       "4  Administrative clerk    1608"
      ]
     },
     "execution_count": 21,
     "metadata": {},
     "output_type": "execute_result"
    }
   ],
   "source": [
    "# Top five job categories with highest number of employees in year:2018\n",
    "los_2018.head()"
   ]
  },
  {
   "cell_type": "code",
   "execution_count": 22,
   "id": "219d0272",
   "metadata": {
    "scrolled": true
   },
   "outputs": [],
   "source": [
    "# Merging data \n",
    "df = pd.merge(los_2018, los_2019, how = 'outer',on = ['Job Title'])\n",
    "df.rename(columns = {df.columns[1]:'2018', df.columns[2]:'2019'})\n",
    "df = pd.merge(df, los_2020, how = 'outer',on = ['Job Title'])\n",
    "df.rename(columns = {df.columns[1]:'2018', df.columns[2]:'2019',df.columns[3]:'2020'},inplace = True)"
   ]
  },
  {
   "cell_type": "code",
   "execution_count": 23,
   "id": "9143cab0",
   "metadata": {},
   "outputs": [],
   "source": [
    "df1 = pd.merge(df, los_2021, how= 'outer', on = ['Job Title'])\n",
    "df1['2021'] = df1['counts']\n",
    "df1.drop(columns = 'counts', inplace = True)"
   ]
  },
  {
   "cell_type": "code",
   "execution_count": 24,
   "id": "620302a0",
   "metadata": {},
   "outputs": [],
   "source": [
    "df1.fillna(0, inplace = True)\n",
    "df1 = df1.astype({'2018':'int', '2019': 'int', '2020': 'int', '2021': 'int'})"
   ]
  },
  {
   "cell_type": "code",
   "execution_count": 25,
   "id": "eebe8593",
   "metadata": {
    "scrolled": true
   },
   "outputs": [],
   "source": [
    "df2 = df1[:11]"
   ]
  },
  {
   "cell_type": "code",
   "execution_count": 29,
   "id": "ef1cde44",
   "metadata": {},
   "outputs": [
    {
     "data": {
      "text/html": [
       "<div>\n",
       "<style scoped>\n",
       "    .dataframe tbody tr th:only-of-type {\n",
       "        vertical-align: middle;\n",
       "    }\n",
       "\n",
       "    .dataframe tbody tr th {\n",
       "        vertical-align: top;\n",
       "    }\n",
       "\n",
       "    .dataframe thead th {\n",
       "        text-align: right;\n",
       "    }\n",
       "</style>\n",
       "<table border=\"1\" class=\"dataframe\">\n",
       "  <thead>\n",
       "    <tr style=\"text-align: right;\">\n",
       "      <th></th>\n",
       "      <th>Job Title</th>\n",
       "      <th>2018</th>\n",
       "      <th>2019</th>\n",
       "      <th>2020</th>\n",
       "      <th>2021</th>\n",
       "    </tr>\n",
       "  </thead>\n",
       "  <tbody>\n",
       "    <tr>\n",
       "      <th>0</th>\n",
       "      <td>Police officer ii</td>\n",
       "      <td>4040</td>\n",
       "      <td>4403</td>\n",
       "      <td>4325</td>\n",
       "      <td>4516</td>\n",
       "    </tr>\n",
       "    <tr>\n",
       "      <th>1</th>\n",
       "      <td>Recreation assistant</td>\n",
       "      <td>2539</td>\n",
       "      <td>2573</td>\n",
       "      <td>2069</td>\n",
       "      <td>2109</td>\n",
       "    </tr>\n",
       "    <tr>\n",
       "      <th>2</th>\n",
       "      <td>Police officer iii</td>\n",
       "      <td>2318</td>\n",
       "      <td>2511</td>\n",
       "      <td>2399</td>\n",
       "      <td>2282</td>\n",
       "    </tr>\n",
       "    <tr>\n",
       "      <th>3</th>\n",
       "      <td>Firefighter iii</td>\n",
       "      <td>1656</td>\n",
       "      <td>1760</td>\n",
       "      <td>1791</td>\n",
       "      <td>1739</td>\n",
       "    </tr>\n",
       "    <tr>\n",
       "      <th>4</th>\n",
       "      <td>Administrative clerk</td>\n",
       "      <td>1608</td>\n",
       "      <td>2009</td>\n",
       "      <td>1830</td>\n",
       "      <td>1782</td>\n",
       "    </tr>\n",
       "    <tr>\n",
       "      <th>5</th>\n",
       "      <td>Special program assistant ii</td>\n",
       "      <td>1061</td>\n",
       "      <td>1122</td>\n",
       "      <td>994</td>\n",
       "      <td>1056</td>\n",
       "    </tr>\n",
       "    <tr>\n",
       "      <th>6</th>\n",
       "      <td>Senior administrative clerk</td>\n",
       "      <td>934</td>\n",
       "      <td>1126</td>\n",
       "      <td>1551</td>\n",
       "      <td>1535</td>\n",
       "    </tr>\n",
       "    <tr>\n",
       "      <th>7</th>\n",
       "      <td>Police sergeant i</td>\n",
       "      <td>845</td>\n",
       "      <td>919</td>\n",
       "      <td>816</td>\n",
       "      <td>863</td>\n",
       "    </tr>\n",
       "    <tr>\n",
       "      <th>8</th>\n",
       "      <td>Police officer i</td>\n",
       "      <td>825</td>\n",
       "      <td>1214</td>\n",
       "      <td>1020</td>\n",
       "      <td>842</td>\n",
       "    </tr>\n",
       "    <tr>\n",
       "      <th>9</th>\n",
       "      <td>Refuse collection truck operator ii</td>\n",
       "      <td>741</td>\n",
       "      <td>798</td>\n",
       "      <td>765</td>\n",
       "      <td>745</td>\n",
       "    </tr>\n",
       "    <tr>\n",
       "      <th>10</th>\n",
       "      <td>Management analyst</td>\n",
       "      <td>720</td>\n",
       "      <td>880</td>\n",
       "      <td>952</td>\n",
       "      <td>986</td>\n",
       "    </tr>\n",
       "  </tbody>\n",
       "</table>\n",
       "</div>"
      ],
      "text/plain": [
       "                              Job Title  2018  2019  2020  2021\n",
       "0                     Police officer ii  4040  4403  4325  4516\n",
       "1                  Recreation assistant  2539  2573  2069  2109\n",
       "2                    Police officer iii  2318  2511  2399  2282\n",
       "3                       Firefighter iii  1656  1760  1791  1739\n",
       "4                  Administrative clerk  1608  2009  1830  1782\n",
       "5          Special program assistant ii  1061  1122   994  1056\n",
       "6           Senior administrative clerk   934  1126  1551  1535\n",
       "7                     Police sergeant i   845   919   816   863\n",
       "8                      Police officer i   825  1214  1020   842\n",
       "9   Refuse collection truck operator ii   741   798   765   745\n",
       "10                   Management analyst   720   880   952   986"
      ]
     },
     "execution_count": 29,
     "metadata": {},
     "output_type": "execute_result"
    }
   ],
   "source": [
    "# Number of employees data of Top 11 Job Titles  \n",
    "df2"
   ]
  },
  {
   "cell_type": "code",
   "execution_count": 30,
   "id": "62744720",
   "metadata": {},
   "outputs": [
    {
     "data": {
      "text/plain": [
       "[<matplotlib.lines.Line2D at 0x12783afcaf0>]"
      ]
     },
     "execution_count": 30,
     "metadata": {},
     "output_type": "execute_result"
    },
    {
     "data": {
      "image/png": "[encoded data removed]",
      "text/plain": [
       "<Figure size 1280x800 with 1 Axes>"
      ]
     },
     "metadata": {
      "needs_background": "light"
     },
     "output_type": "display_data"
    }
   ],
   "source": [
    "from matplotlib.pyplot import figure\n",
    "figure(figsize=(16, 10), dpi=80)\n",
    "# set the title\n",
    "plt.title('Number of City Employees per year (Top 11 Job Titles)')\n",
    "plt.xticks(rotation = 90)\n",
    "\n",
    "# Plot by Year\n",
    "plt.plot(df2['Job Title'], df2['2018'], marker= '.')\n",
    "plt.plot(df2['Job Title'], df2['2019'], marker= '.')\n",
    "plt.plot(df2['Job Title'], df2['2020'], marker= '.')\n",
    "plt.plot(df2['Job Title'], df2['2021'], marker= '.')\n"
   ]
  },
  {
   "cell_type": "code",
   "execution_count": 31,
   "id": "6a2a22be",
   "metadata": {
    "scrolled": true
   },
   "outputs": [
    {
     "name": "stdout",
     "output_type": "stream",
     "text": [
      "The mean salary in 2018(Los Angeles):$ 82556.93938642056\n",
      "The median salary in 2018(Los Angeles):$ 80528.32\n",
      "The median salary in 2018(Los Angeles):$ 16477.6\n"
     ]
    }
   ],
   "source": [
    "# Mean, median salary of Los Angeles employee in the given years. \n",
    "# Year: 2018\n",
    "los_sal18 = los_sal[los_sal['Year'] == 2018]\n",
    "print(\"The mean salary in 2018(Los Angeles):$\", los_sal[los_sal['Year'] == 2018]['Total Pay'].mean())\n",
    "print(\"The median salary in 2018(Los Angeles):$\", los_sal[los_sal['Year'] == 2018]['Total Pay'].median())\n",
    "los_sal = los_sal.loc[(los_sal !=0).any(axis=1)]\n",
    "print(\"The median salary in 2018(Los Angeles):$\", los_sal[los_sal['Year'] == 2018]['Total Pay'].mode()[0])"
   ]
  },
  {
   "cell_type": "code",
   "execution_count": 34,
   "id": "334fc52d",
   "metadata": {},
   "outputs": [
    {
     "data": {
      "image/png": "[encoded data removed]",
      "text/plain": [
       "<Figure size 432x288 with 1 Axes>"
      ]
     },
     "metadata": {
      "needs_background": "light"
     },
     "output_type": "display_data"
    }
   ],
   "source": [
    "plt.hist(los_sal[los_sal['Year'] == 2018]['Total Pay'])\n",
    "plt.title(\"Los Angeles Employees Salary Histogram (Year:2018)\")\n",
    "plt.show()"
   ]
  },
  {
   "cell_type": "code",
   "execution_count": 35,
   "id": "05ef4d31",
   "metadata": {},
   "outputs": [
    {
     "name": "stdout",
     "output_type": "stream",
     "text": [
      "The number of employees having the salary less than 265000: 50656\n"
     ]
    },
    {
     "data": {
      "image/png": "[encoded data removed]",
      "text/plain": [
       "<Figure size 432x288 with 1 Axes>"
      ]
     },
     "metadata": {
      "needs_background": "light"
     },
     "output_type": "display_data"
    }
   ],
   "source": [
    "# Box Plot of employee salary less than 265000\n",
    "print('The number of employees having the salary less than 265000:', len(los_sal18[los_sal18['Total Pay'] < 265000]['Total Pay']) )\n",
    "plt.boxplot(los_sal18[los_sal18['Total Pay'] < 265000]['Total Pay'])\n",
    "plt.show()"
   ]
  },
  {
   "cell_type": "code",
   "execution_count": 36,
   "id": "fdd1d358",
   "metadata": {},
   "outputs": [
    {
     "name": "stdout",
     "output_type": "stream",
     "text": [
      "The number of employees having the salary greater than 265000: 291\n"
     ]
    },
    {
     "data": {
      "image/png": "[encoded data removed]",
      "text/plain": [
       "<Figure size 432x288 with 1 Axes>"
      ]
     },
     "metadata": {
      "needs_background": "light"
     },
     "output_type": "display_data"
    }
   ],
   "source": [
    "# Box Plot of employee salary greater than 265000\n",
    "print('The number of employees having the salary greater than 265000:',len(los_sal18[los_sal18['Total Pay'] > 265000]['Total Pay']) )\n",
    "plt.boxplot(los_sal18[los_sal18['Total Pay'] > 265000]['Total Pay'])\n",
    "plt.show()"
   ]
  },
  {
   "cell_type": "code",
   "execution_count": 37,
   "id": "f2a2dfc2",
   "metadata": {},
   "outputs": [
    {
     "data": {
      "image/png": "[encoded data removed]",
      "text/plain": [
       "<Figure size 432x288 with 1 Axes>"
      ]
     },
     "metadata": {
      "needs_background": "light"
     },
     "output_type": "display_data"
    }
   ],
   "source": [
    "# Histogram for employees having salary less than 265000\n",
    "plt.hist(los_sal18[los_sal18['Total Pay'] < 265000]['Total Pay'])\n",
    "plt.show()"
   ]
  },
  {
   "cell_type": "code",
   "execution_count": 38,
   "id": "36e48b23",
   "metadata": {},
   "outputs": [
    {
     "name": "stdout",
     "output_type": "stream",
     "text": [
      "The Mean of population: 82556.93938642056\n",
      "The standard deviation of population: 58991.919031303354\n",
      "The coefficient variation of population: 0.7145603927391557\n"
     ]
    }
   ],
   "source": [
    "# Population Data \n",
    "pop_265 = los_sal18['Total Pay']\n",
    "print(\"The Mean of population:\", np.mean(pop_265))\n",
    "print(\"The standard deviation of population:\", np.std(pop_265))\n",
    "print('The coefficient variation of population:', np.std(pop_265)/np.mean(pop_265))"
   ]
  },
  {
   "cell_type": "code",
   "execution_count": 39,
   "id": "c9f4ed6e",
   "metadata": {},
   "outputs": [],
   "source": [
    "import random\n",
    "# Sampled list generated from the Population (Employees Salary List)\n",
    "def sample_list(lis):\n",
    "    n = int(len(lis)/35)\n",
    "    return(random.sample(lis, n))"
   ]
  },
  {
   "cell_type": "code",
   "execution_count": 40,
   "id": "8c5778d4",
   "metadata": {},
   "outputs": [],
   "source": [
    "samp = sample_list(list(pop_265))"
   ]
  },
  {
   "cell_type": "code",
   "execution_count": 41,
   "id": "1865eac4",
   "metadata": {
    "scrolled": true
   },
   "outputs": [
    {
     "name": "stdout",
     "output_type": "stream",
     "text": [
      "The mean of sample:$ 84513.12\n",
      "The standard deviation of sample:$ 58594.58\n",
      "The coefficient variation of sample: 0.6933192858520859\n",
      "Variance in population and sample mean:$ 397.34\n",
      "The sample mean successfully estimates the population mean with low variance of $397.34\n"
     ]
    }
   ],
   "source": [
    "print(\"The mean of sample:$\", round(np.mean(samp),2))\n",
    "print(\"The standard deviation of sample:$\",round(np.std(samp),2))\n",
    "print(\"The coefficient variation of sample:\", np.std(samp)/np.mean(samp))\n",
    "print('Variance in population and sample mean:$', round(np.std(pop_265)- np.std(samp),2))\n",
    "print('The sample mean successfully estimates the population mean with low variance of $%s' % round((np.std(pop_265)- np.std(samp)),2))"
   ]
  },
  {
   "cell_type": "code",
   "execution_count": 42,
   "id": "756ada71",
   "metadata": {},
   "outputs": [
    {
     "name": "stdout",
     "output_type": "stream",
     "text": [
      "The correlation between the pay and benefits: 0.9157005617602285\n"
     ]
    }
   ],
   "source": [
    "x = list(los_sal18['Total Pay'])\n",
    "y = list(los_sal18['Benefits'])\n",
    "r = np.corrcoef(x,y)\n",
    "print(\"The correlation between the pay and benefits:\", r[1][0])"
   ]
  },
  {
   "cell_type": "code",
   "execution_count": 33,
   "id": "c27ced48",
   "metadata": {},
   "outputs": [],
   "source": [
    "def standardization(sample):\n",
    "    mean = np.mean(sample)\n",
    "    std = np.std(sample)\n",
    "    z = []\n",
    "    for i in sample:\n",
    "        a = (i - mean) / std\n",
    "        z.append(a)\n",
    "    return z\n",
    "    "
   ]
  },
  {
   "cell_type": "code",
   "execution_count": 34,
   "id": "c601f861",
   "metadata": {},
   "outputs": [
    {
     "data": {
      "image/png": "[encoded data removed]",
      "text/plain": [
       "<Figure size 432x288 with 1 Axes>"
      ]
     },
     "metadata": {
      "needs_background": "light"
     },
     "output_type": "display_data"
    }
   ],
   "source": [
    "# Standardizing total pay of employees\n",
    "samp = sample_list(list(pop_265))\n",
    "std_sal = standardization(samp)\n",
    "plt.hist(std_sal)\n",
    "plt.show()"
   ]
  },
  {
   "cell_type": "code",
   "execution_count": 35,
   "id": "d3f22ade",
   "metadata": {},
   "outputs": [
    {
     "name": "stdout",
     "output_type": "stream",
     "text": [
      "The mean after standardization:  -0.0\n",
      "The standard deviation after standardization: 1.0\n"
     ]
    }
   ],
   "source": [
    "# After standardization of sample data\n",
    "print(\"The mean after standardization: \", round(np.mean(std_sal),1))\n",
    "print(\"The standard deviation after standardization:\", np.std(std_sal))"
   ]
  },
  {
   "cell_type": "code",
   "execution_count": 36,
   "id": "cd4e224c",
   "metadata": {},
   "outputs": [],
   "source": [
    "# Sampling Distributions of the mean (Central limit Theorem)\n",
    "def sample_dist(pop):\n",
    "    z = []\n",
    "    for i in range(34):\n",
    "        samp = sample_list(list(pop))\n",
    "#         standardization(samp)\n",
    "        z.append(np.mean(samp))\n",
    "    return z\n",
    "    "
   ]
  },
  {
   "cell_type": "code",
   "execution_count": 37,
   "id": "863ed2ad",
   "metadata": {},
   "outputs": [
    {
     "data": {
      "image/png": "[encoded data removed]",
      "text/plain": [
       "<Figure size 432x288 with 1 Axes>"
      ]
     },
     "metadata": {
      "needs_background": "light"
     },
     "output_type": "display_data"
    }
   ],
   "source": [
    "dist = sample_dist(pop_265)\n",
    "plt.hist(dist)\n",
    "plt.show()"
   ]
  },
  {
   "cell_type": "code",
   "execution_count": 38,
   "id": "c0617b05",
   "metadata": {},
   "outputs": [
    {
     "name": "stdout",
     "output_type": "stream",
     "text": [
      "The standart error of the sample distribution: 238.28884156630042\n"
     ]
    }
   ],
   "source": [
    "# Standard Error (how well approximation of true mean)\n",
    "print(\"The standart error of the sample distribution:\",np.std(dist)/ (len(dist))**0.5  )"
   ]
  },
  {
   "cell_type": "code",
   "execution_count": 39,
   "id": "9b545cd1",
   "metadata": {},
   "outputs": [],
   "source": [
    "# Confidence Interval \n",
    "import scipy.stats as st\n",
    "    "
   ]
  },
  {
   "cell_type": "code",
   "execution_count": 40,
   "id": "ffcf88b0",
   "metadata": {},
   "outputs": [
    {
     "data": {
      "text/plain": [
       "FT    3849\n",
       "PT     191\n",
       "Name: Status, dtype: int64"
      ]
     },
     "execution_count": 40,
     "metadata": {},
     "output_type": "execute_result"
    }
   ],
   "source": [
    "los_sal18[los_sal18['Job Title']=='Police officer ii']['Status'].value_counts()"
   ]
  },
  {
   "cell_type": "code",
   "execution_count": 41,
   "id": "b08fd38e",
   "metadata": {},
   "outputs": [],
   "source": [
    "pf_sal = los_sal18[los_sal18['Job Title']=='Police officer ii']['Total Pay']"
   ]
  },
  {
   "cell_type": "code",
   "execution_count": 42,
   "id": "48145eed",
   "metadata": {},
   "outputs": [
    {
     "data": {
      "text/plain": [
       "(107371.0580517572, 109542.90080962921)"
      ]
     },
     "execution_count": 42,
     "metadata": {},
     "output_type": "execute_result"
    }
   ],
   "source": [
    "# create 99% confidence interval for police officer ii mean salary\n",
    "st.norm.interval(alpha = 0.99,\n",
    "                loc = np.mean(pf_sal),\n",
    "                scale =st.sem(pf_sal))"
   ]
  },
  {
   "cell_type": "markdown",
   "id": "08a3903e",
   "metadata": {},
   "source": [
    "We are 99 percent confident that salary of police officer ii will be in the interval of [$107371.0580517572, $109542.90080962921]"
   ]
  },
  {
   "cell_type": "code",
   "execution_count": 43,
   "id": "1db5fc27",
   "metadata": {},
   "outputs": [],
   "source": [
    "# For small sample size (say less than 30)\n",
    "spf_sal = random.sample(list(pf_sal), 28)"
   ]
  },
  {
   "cell_type": "code",
   "execution_count": 44,
   "id": "66512334",
   "metadata": {},
   "outputs": [
    {
     "data": {
      "text/plain": [
       "(100792.07258810026, 119342.0945547569)"
      ]
     },
     "execution_count": 44,
     "metadata": {},
     "output_type": "execute_result"
    }
   ],
   "source": [
    "st.t.interval(alpha= 0.99, df = len(spf_sal)-1,\n",
    "             loc = np.mean(spf_sal),\n",
    "             scale = st.sem(spf_sal))"
   ]
  },
  {
   "cell_type": "code",
   "execution_count": 45,
   "id": "4a4f82e0",
   "metadata": {},
   "outputs": [
    {
     "data": {
      "image/png": "[encoded data removed]",
      "text/plain": [
       "<Figure size 432x288 with 1 Axes>"
      ]
     },
     "metadata": {
      "needs_background": "light"
     },
     "output_type": "display_data"
    }
   ],
   "source": [
    "plt.hist(spf_sal)\n",
    "plt.show()"
   ]
  },
  {
   "cell_type": "code",
   "execution_count": 46,
   "id": "06dcdcaa",
   "metadata": {},
   "outputs": [],
   "source": [
    "# Los Angeles Employees Salary (Year:2018)\n",
    "los_sal21 = los_sal[los_sal['Year']== 2018]\n",
    "\n",
    "# Salary of Police officer ii rank \n",
    "pf_sal = los_sal18[los_sal18['Job Title'] == 'Police officer ii']['Total Pay']\n",
    "pf_sal18 = pf_sal[pf_sal>0.0]"
   ]
  },
  {
   "cell_type": "code",
   "execution_count": 47,
   "id": "4b576168",
   "metadata": {},
   "outputs": [],
   "source": [
    "# Los Angeles Employees Salary (Year:2021)\n",
    "los_sal21 = los_sal[los_sal['Year']== 2021]\n",
    "\n",
    "# Salary of Police officer ii rank \n",
    "pf_sal = los_sal21[los_sal21['Job Title'] == 'Police officer ii']['Total Pay']\n",
    "pf_sal21 = pf_sal[pf_sal>0.0]"
   ]
  },
  {
   "cell_type": "code",
   "execution_count": 48,
   "id": "ee8251fc",
   "metadata": {},
   "outputs": [],
   "source": [
    "# Difference\n",
    "diff_mean = np.mean(pf_sal18) - np.mean(pf_sal21)\n",
    "diff_std = np.std(pf_sal18) - np.std(pf_sal21)\n",
    "error = ((np.mean(pf_sal18)**2/len(pf_sal18)) + (np.mean(pf_sal21)**2/len(pf_sal21)))**0.5"
   ]
  },
  {
   "cell_type": "code",
   "execution_count": 49,
   "id": "d32086b8",
   "metadata": {},
   "outputs": [
    {
     "data": {
      "text/plain": [
       "(-8365.122777651259, 997.6286625827106)"
      ]
     },
     "execution_count": 49,
     "metadata": {},
     "output_type": "execute_result"
    }
   ],
   "source": [
    "from scipy.stats import norm\n",
    "\n",
    "# Desired confidence interval\n",
    "C = 0.95\n",
    "\n",
    "# Calculate confidence interval\n",
    "alpha = (1-C)/2\n",
    "z = norm.ppf(alpha)\n",
    "interval = (diff_mean + z*error, diff_mean - z*error)\n",
    "interval"
   ]
  },
  {
   "cell_type": "markdown",
   "id": "f21884d5",
   "metadata": {},
   "source": [
    "From the above confidence interval of 95percent we conclude the mean salaries of the police officers ii in Los Angeles has decreased (from year 2018 to year 2021). There is also a sign of increase in salary of some officers as well but those are small in numbers.  "
   ]
  },
  {
   "cell_type": "markdown",
   "id": "3e4f4126",
   "metadata": {},
   "source": [
    "### Students T-test"
   ]
  },
  {
   "cell_type": "code",
   "execution_count": 54,
   "id": "3f2992ac",
   "metadata": {},
   "outputs": [],
   "source": [
    "# different samples\n",
    "sam18 = random.sample(list(pf_sal18), 29)\n",
    "sam21 = random.sample(list(pf_sal21), 24)"
   ]
  },
  {
   "cell_type": "code",
   "execution_count": 55,
   "id": "f2d260e4",
   "metadata": {},
   "outputs": [],
   "source": [
    "mean_sam18 = np.mean(sam18)\n",
    "mean_sam21 = np.mean(sam21)\n",
    "std_sam18 = np.std(sam18)\n",
    "std_sam21 = np.std(sam21)"
   ]
  },
  {
   "cell_type": "code",
   "execution_count": 56,
   "id": "f0df232c",
   "metadata": {},
   "outputs": [],
   "source": [
    "# Pooled variance formula\n",
    "s_p = (((len(sam18)-1)*std_sam18**2) + ((len(sam21)-1)*std_sam21**2))/(len(sam18)+len(sam21)-2)\n",
    "\n",
    "# Pooled standard deviation formula\n",
    "std_p = s_p**0.5\n",
    "\n",
    "# Difference\n",
    "diff_mean = mean_sam18 - mean_sam21\n",
    "diff_std = std_sam18 - std_sam21\n",
    "samp_error = ((s_p**2/len(sam18)) + (s_p**2/len(sam21)))**0.5"
   ]
  },
  {
   "cell_type": "code",
   "execution_count": 57,
   "id": "7683663f",
   "metadata": {},
   "outputs": [
    {
     "data": {
      "text/plain": [
       "(-1006021560.3602422, 1005975171.5685469)"
      ]
     },
     "execution_count": 57,
     "metadata": {},
     "output_type": "execute_result"
    }
   ],
   "source": [
    "from scipy.stats import t\n",
    "# Desired confidence interval\n",
    "C = 0.99\n",
    "\n",
    "# Calculate confidence interval\n",
    "df = len(sam18)+len(sam21) - 2\n",
    "alpha = (1-C)/2\n",
    "t = t.ppf(alpha,df)\n",
    "interval = (diff_mean + t*samp_error, diff_mean - t*samp_error)\n",
    "interval"
   ]
  },
  {
   "cell_type": "markdown",
   "id": "9e9be303",
   "metadata": {},
   "source": [
    "With above given confidence interval of 99percent we cannot conclude that the mean salaries of the police officer ii in Los Angeles has decreased or increased from the year of 2018 to 2021."
   ]
  },
  {
   "cell_type": "markdown",
   "id": "b62c1d6f",
   "metadata": {},
   "source": [
    "### Hypothesis Testing"
   ]
  },
  {
   "cell_type": "code",
   "execution_count": 58,
   "id": "6edaabcb",
   "metadata": {},
   "outputs": [],
   "source": [
    "# San Francisco\n",
    "sf_sal = pd.concat(map(pd.read_csv, ['salaries/san-francisco-2018.csv', 'salaries/san-francisco-2019.csv', 'salaries/san-francisco-2020.csv',\n",
    "                                    'salaries/san-francisco-2021.csv']), ignore_index = True)"
   ]
  },
  {
   "cell_type": "code",
   "execution_count": 75,
   "id": "d9ee8b01",
   "metadata": {},
   "outputs": [],
   "source": [
    "# Salary data for year:2018\n",
    "sf_2018 = sf_sal[sf_sal['Year'] == 2018]"
   ]
  },
  {
   "cell_type": "code",
   "execution_count": 76,
   "id": "cc53ff56",
   "metadata": {},
   "outputs": [
    {
     "data": {
      "text/plain": [
       "Transit Operator             2741\n",
       "Special Nurse                1633\n",
       "Registered Nurse             1445\n",
       "Firefighter                   914\n",
       "Public Service Trainee        873\n",
       "Custodian                     854\n",
       "Police Officer 3              811\n",
       "Recreation Leader             762\n",
       "Police Officer                679\n",
       "HSA Sr Eligibility Worker     543\n",
       "Name: Job Title, dtype: int64"
      ]
     },
     "execution_count": 76,
     "metadata": {},
     "output_type": "execute_result"
    }
   ],
   "source": [
    "# Top 11 hired employees category\n",
    "sf_2018['Job Title'].value_counts().head(10)"
   ]
  },
  {
   "cell_type": "code",
   "execution_count": 61,
   "id": "cde050ab",
   "metadata": {},
   "outputs": [
    {
     "data": {
      "text/plain": [
       "FT    2035\n",
       "PT     706\n",
       "Name: Status, dtype: int64"
      ]
     },
     "execution_count": 61,
     "metadata": {},
     "output_type": "execute_result"
    }
   ],
   "source": [
    "# Transit operator salary in year:2018\n",
    "sf_trn18 = sf_2018[sf_2018['Job Title'] == 'Transit Operator']\n",
    "# Number of Full time and Part time transit operators\n",
    "sf_trn18['Status'].value_counts()"
   ]
  },
  {
   "cell_type": "code",
   "execution_count": 63,
   "id": "87ae34e5",
   "metadata": {},
   "outputs": [],
   "source": [
    "# Salary list\n",
    "trn_18 = sf_trn18['Total Pay']\n",
    "# sample of transist operator salary\n",
    "sptrn18 = random.sample(list(trn_18), 35)\n",
    "# According salary.com mean transit operator salary in San Francisco, California\n",
    "null_h = 66620 # in US Dollars"
   ]
  },
  {
   "cell_type": "code",
   "execution_count": 66,
   "id": "281a238b",
   "metadata": {},
   "outputs": [],
   "source": [
    "def hypothesis_test(sign,val):\n",
    "    \n",
    "    # Significance value\n",
    "    # Calculate confidence interval\n",
    "    alpha = sign/2\n",
    "    z = norm.ppf(alpha)\n",
    "    # Standized z score from the dataset\n",
    "    dz = (np.mean(val)-null_h)/(np.std(val)/len(val)**0.5)\n",
    "    if z < dz < -z:\n",
    "        print(\"Accept the null hypothesis\")\n",
    "    else: \n",
    "        print(\"Reject null hypothesis\") \n",
    "    return dz,z"
   ]
  },
  {
   "cell_type": "code",
   "execution_count": 69,
   "id": "aae736f5",
   "metadata": {},
   "outputs": [
    {
     "name": "stdout",
     "output_type": "stream",
     "text": [
      "Accept the null hypothesis\n"
     ]
    }
   ],
   "source": [
    "# Significance level\n",
    "sign = 0.05\n",
    "\n",
    "# Sample Dataset of transit operator's salary\n",
    "val = sptrn18\n",
    "\n",
    "# Hypothesis test\n",
    "hyp = hypothesis_test(sign,val)"
   ]
  },
  {
   "cell_type": "markdown",
   "id": "ef1b7396",
   "metadata": {},
   "source": [
    "At 5 percent significance level we accept the null hypthesis of average transit operator's salary is $ 66,620 in San Francisco, California."
   ]
  },
  {
   "cell_type": "code",
   "execution_count": 72,
   "id": "fc3cf3bc",
   "metadata": {},
   "outputs": [
    {
     "name": "stdout",
     "output_type": "stream",
     "text": [
      "The P-value: 1.5742021181814436\n",
      "Accept Null Hypothesis\n"
     ]
    }
   ],
   "source": [
    "# pvalue is lower than level of significance(alpha): reject null hypothesis\n",
    "import scipy.stats\n",
    "\n",
    "# find p-value for two-tailed test\n",
    "p_val = scipy.stats.norm.sf(hyp[0])*2\n",
    "print('The P-value:', p_val)\n",
    "\n",
    "# Significance level\n",
    "sign = 0.05\n",
    "\n",
    "if p_val <sign:\n",
    "    print(\"Reject Null Hypothesis\")\n",
    "else:\n",
    "    print(\"Accept Null Hypothesis\")"
   ]
  },
  {
   "cell_type": "code",
   "execution_count": 74,
   "id": "5bd8efe3",
   "metadata": {},
   "outputs": [],
   "source": [
    "# Salary data for year:2021\n",
    "sf_2021 = sf_sal[sf_sal['Year'] == 2021]"
   ]
  },
  {
   "cell_type": "code",
   "execution_count": 77,
   "id": "b41f2d92",
   "metadata": {},
   "outputs": [
    {
     "data": {
      "text/plain": [
       "FT    1812\n",
       "PT     702\n",
       "Name: Status, dtype: int64"
      ]
     },
     "execution_count": 77,
     "metadata": {},
     "output_type": "execute_result"
    }
   ],
   "source": [
    "# Transit operator salary in year:2021\n",
    "sf_trn21 = sf_2021[sf_2021['Job Title'] == 'Transit Operator']\n",
    "# Number of Full time and Part time transit operators\n",
    "sf_trn21['Status'].value_counts()"
   ]
  },
  {
   "cell_type": "code",
   "execution_count": 78,
   "id": "d70e3f1e",
   "metadata": {},
   "outputs": [],
   "source": [
    "# Salary list year:2018\n",
    "trn_18 = sf_trn18['Total Pay']\n",
    "mean_18 = np.mean(trn_18)\n",
    "# Salary list year:2021\n",
    "trn_21 = sf_trn21['Total Pay']\n",
    "mean_21 = np.mean(trn_21)"
   ]
  },
  {
   "cell_type": "code",
   "execution_count": 105,
   "id": "1f5090c8",
   "metadata": {},
   "outputs": [],
   "source": [
    "# Mean difference of salary \n",
    "diff = mean_18 - mean_21\n",
    "\n",
    "# Hypothesised difference \n",
    "hyp_diff  = 100\n",
    "\n",
    "# standard error of diff\n",
    "std_err = ((mean_18**2/len(trn_18)) + (mean_21**2/len(trn_21)))**0.5"
   ]
  },
  {
   "cell_type": "code",
   "execution_count": 111,
   "id": "4323af01",
   "metadata": {},
   "outputs": [
    {
     "name": "stdout",
     "output_type": "stream",
     "text": [
      "The z-score of the data set: -2.5130812263456637\n",
      " The mean salary of Transit operator has dropped in 2021.\n",
      "The P-value: 0.011968177543519705\n",
      "Reject Null Hypothesis\n"
     ]
    }
   ],
   "source": [
    "# Large samples (use z-statistics)\n",
    "z = (diff-hyp_diff)/std_err\n",
    "print('The z-score of the data set:', z)\n",
    "if z < 0:\n",
    "    print(\" The mean salary of Transit operator has dropped in 2021.\")\n",
    "else:\n",
    "    print(\" The rise in mean salary of Tranist Operator in 2021.\")\n",
    "# find p-value for two-tailed test\n",
    "p_val = scipy.stats.norm.sf(abs(z))*2\n",
    "print('The P-value:', p_val)\n",
    "\n",
    "# Significance level\n",
    "sign = 0.05\n",
    "\n",
    "if p_val <sign:\n",
    "    print(\"Reject Null Hypothesis\")\n",
    "else:\n",
    "    print(\"Accept Null Hypothesis\")"
   ]
  },
  {
   "cell_type": "code",
   "execution_count": null,
   "id": "555c7b19",
   "metadata": {},
   "outputs": [],
   "source": []
  }
 ],
 "metadata": {
  "kernelspec": {
   "display_name": "Python 3 (ipykernel)",
   "language": "python",
   "name": "python3"
  },
  "language_info": {
   "codemirror_mode": {
    "name": "ipython",
    "version": 3
   },
   "file_extension": ".py",
   "mimetype": "text/x-python",
   "name": "python",
   "nbconvert_exporter": "python",
   "pygments_lexer": "ipython3",
   "version": "3.9.7"
  }
 },
 "nbformat": 4,
 "nbformat_minor": 5
}
